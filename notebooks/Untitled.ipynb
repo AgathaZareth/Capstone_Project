{
 "cells": [
  {
   "cell_type": "markdown",
   "metadata": {},
   "source": [
    "# Introduction\n",
    "This note book creates and saves a dataframe for the MLB hitting stats for the past 5 years."
   ]
  },
  {
   "cell_type": "markdown",
   "metadata": {},
   "source": [
    "# Imports"
   ]
  },
  {
   "cell_type": "code",
   "execution_count": 1,
   "metadata": {},
   "outputs": [],
   "source": [
    "import pandas as pd\n",
    "import requests\n",
    "from bs4 import BeautifulSoup"
   ]
  },
  {
   "cell_type": "markdown",
   "metadata": {},
   "source": [
    "# Notebook Setup"
   ]
  },
  {
   "cell_type": "markdown",
   "metadata": {},
   "source": [
    "## Work around 403 error"
   ]
  },
  {
   "cell_type": "code",
   "execution_count": 2,
   "metadata": {},
   "outputs": [],
   "source": [
    "# a small little ruse\n",
    "headers = {\n",
    "    'User-Agent':'Mozilla/5.0 (Macintosh; Intel Mac OS X 10_15_7) AppleWebKit/537.36 (KHTML, like Gecko) Chrome/108.0.0.0 Safari/537.36'\n",
    "}"
   ]
  },
  {
   "cell_type": "markdown",
   "metadata": {},
   "source": [
    "## Scraping Website"
   ]
  },
  {
   "cell_type": "markdown",
   "metadata": {},
   "source": [
    "[MLB.com](https://www.mlb.com/stats/)\n",
    "\n",
    "The base url for regular season is below. Notice the only parts of the url that change are the year and page number.\n",
    "\n"
   ]
  },
  {
   "cell_type": "code",
   "execution_count": 3,
   "metadata": {},
   "outputs": [],
   "source": [
    "# https://www.mlb.com/stats/{year}?page={page}&playerPool=ALL"
   ]
  },
  {
   "cell_type": "markdown",
   "metadata": {},
   "source": [
    "I want scrap 5 years of data. Remember the 2020 season was cancelled due to Covid. This means starting in 2022, I will need to scrap back to 2017. "
   ]
  },
  {
   "cell_type": "markdown",
   "metadata": {},
   "source": [
    "# Finding 'stats-body-table player' table from [MLB website](https://www.mlb.com/stats)"
   ]
  },
  {
   "cell_type": "code",
   "execution_count": null,
   "metadata": {},
   "outputs": [],
   "source": []
  },
  {
   "cell_type": "markdown",
   "metadata": {},
   "source": [
    "# Create Table"
   ]
  },
  {
   "cell_type": "code",
   "execution_count": null,
   "metadata": {},
   "outputs": [],
   "source": [
    "years_to_scrap = ['2022', '2021', '2019', '2018', '2017']\n",
    "\n",
    "year in years_to_scrap:\n",
    "    \n",
    "    # page number for initializing the table\n",
    "    page = 1\n",
    "    \n",
    "    # base URL with year and page variables\n",
    "    base_url = f'https://www.mlb.com/stats/{year}?page={page}&playerPool=ALL'\n",
    "    \n",
    "    # request for beautiful soup\n",
    "    response = requests.get(base_URL, headers=headers)\n",
    "    soup = BeautifulSoup(response.content, 'html.parser')\n",
    "\n",
    "    # find the table from website\n",
    "    table = soup.find('div', class_ = 'stats-body-table player')\n",
    "\n",
    "    \n",
    "    "
   ]
  },
  {
   "cell_type": "code",
   "execution_count": null,
   "metadata": {},
   "outputs": [],
   "source": [
    "    # page number for initializing the table\n",
    "    i = 1\n",
    "\n",
    "    # request for beautiful soup\n",
    "    response = requests.get(base_URL, headers=headers)\n",
    "    soup = BeautifulSoup(response.content, 'html.parser')\n",
    "\n",
    "    # find the table from website\n",
    "    table = soup.find('div', class_ = 'stats-body-table player')\n",
    "\n",
    "    # convert to pandas df\n",
    "    stats_table = pd.read_html(str(table))[0]\n",
    "\n",
    "    # scrap multiple pages\n",
    "    # start on page 2, first page used to initialize table\n",
    "    for i in range(2,num_of_pages_to_scrap):\n",
    "\n",
    "        # request for beautiful soup\n",
    "        response = requests.get(make_url(url, i), headers=headers)\n",
    "        soup = BeautifulSoup(response.content, 'html.parser')\n",
    "\n",
    "        # find the table\n",
    "        table = soup.find('div', class_ = 'stats-body-table player')\n",
    "\n",
    "        # initialize the table - convert to pandas df\n",
    "        pandas_table = pd.read_html(str(table))[0]\n",
    "\n",
    "        # check if there is data in the table\n",
    "        if len(pandas_table) > 0:\n",
    "\n",
    "            # if there is info in table then concat it to initialized table\n",
    "            stats_table = pd.concat([stats_table, pandas_table])\n",
    "\n",
    "        # if no data in the table then we have reached the end, break out of loop\n",
    "        else:\n",
    "            break\n",
    "\n",
    "    # change column names from NAMENAME to NAME\n",
    "    fix_col_names = []\n",
    "    for col in stats_table.columns:\n",
    "        if 'caret-upcaret-down' in col:\n",
    "            name = col.split('caret-upcaret-down')[-1]\n",
    "        else:\n",
    "            name = col[:int(len(col)/2)]\n",
    "        fix_col_names.append(name)\n",
    "\n",
    "    stats_table.columns = fix_col_names\n",
    "\n",
    "    # reset the index, drop old one\n",
    "    stats_table.reset_index(drop=True, inplace=True)      \n",
    "\n",
    "    return stats_table"
   ]
  }
 ],
 "metadata": {
  "kernelspec": {
   "display_name": "Python (learn-env)",
   "language": "python",
   "name": "learn-env"
  },
  "language_info": {
   "codemirror_mode": {
    "name": "ipython",
    "version": 3
   },
   "file_extension": ".py",
   "mimetype": "text/x-python",
   "name": "python",
   "nbconvert_exporter": "python",
   "pygments_lexer": "ipython3",
   "version": "3.8.5"
  },
  "toc": {
   "base_numbering": 1,
   "nav_menu": {},
   "number_sections": true,
   "sideBar": true,
   "skip_h1_title": false,
   "title_cell": "Table of Contents",
   "title_sidebar": "Contents",
   "toc_cell": false,
   "toc_position": {},
   "toc_section_display": true,
   "toc_window_display": false
  }
 },
 "nbformat": 4,
 "nbformat_minor": 4
}
