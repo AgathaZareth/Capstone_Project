{
 "cells": [
  {
   "cell_type": "markdown",
   "metadata": {},
   "source": [
    "# Introduction\n",
    "This note book creates and saves a dataframe for the Minor League teams. "
   ]
  },
  {
   "cell_type": "markdown",
   "metadata": {},
   "source": [
    "# Imports"
   ]
  },
  {
   "cell_type": "code",
   "execution_count": 1,
   "metadata": {},
   "outputs": [],
   "source": [
    "import pandas as pd\n",
    "import requests\n",
    "from bs4 import BeautifulSoup\n",
    "\n",
    "import json"
   ]
  },
  {
   "cell_type": "markdown",
   "metadata": {},
   "source": [
    "# Notebook Setup\n",
    "Important things to note, I am only collecting data on qulaified players from Triple-A teams. To qualify, a player must have 2.7 plate appearances per team game played. Qulaified players is the default so I do not have to do any special filtering for this."
   ]
  },
  {
   "cell_type": "markdown",
   "metadata": {},
   "source": [
    "## Work around 403 error"
   ]
  },
  {
   "cell_type": "code",
   "execution_count": 2,
   "metadata": {},
   "outputs": [],
   "source": [
    "# a small little ruse to aviod 403 error\n",
    "headers = {\n",
    "    'User-Agent':'Mozilla/5.0 (Macintosh; Intel Mac OS X 10_15_7) AppleWebKit/537.36 (KHTML, like Gecko) Chrome/108.0.0.0 Safari/537.36'\n",
    "}"
   ]
  },
  {
   "cell_type": "markdown",
   "metadata": {},
   "source": [
    "## Load pickled MLB df to get column names\n",
    "New MiLB data will need same format as MLB data. "
   ]
  },
  {
   "cell_type": "code",
   "execution_count": 3,
   "metadata": {},
   "outputs": [
    {
     "data": {
      "text/plain": [
       "Index(['Team', 'Games Played', 'At Bats', 'Runs', 'Hits', 'Doubles', 'Triples',\n",
       "       'Home Runs', 'Runs Batted In', 'Walks', 'Strikeouts', 'Stolen Bases',\n",
       "       'Caught Stealing', 'Batting Average', 'On-Base Percentage',\n",
       "       'Slugging Percentage', 'On-Base Plus Slugging', 'First Name',\n",
       "       'Last Name', 'Position'],\n",
       "      dtype='object')"
      ]
     },
     "execution_count": 3,
     "metadata": {},
     "output_type": "execute_result"
    }
   ],
   "source": [
    "MLB_columns = pd.read_pickle(\"../pickled_tables/MLB_df.pkl\").columns\n",
    "MLB_columns"
   ]
  },
  {
   "cell_type": "markdown",
   "metadata": {},
   "source": [
    "## URL's\n",
    "URL's found from inspect > Network. Tabbing through Name. Checking: Header > General > Request URL\n",
    "\n",
    "1. Get team id numbers from Triple-A division:\n",
    " - Name: en-US?&contextTeamId=&contextLeagueId=117 \n",
    "    - Notice end includes league id: 'LeagueId=117', also see this is tacked on to end of url lised in Request URL\n",
    "    - Request URL: https://bdfed.stitch.mlbinfra.com/bdfed/milb-stats/default/default/en-US?&contextTeamId=&contextLeagueId=117\n",
    "      - This is a json dict with website and data information: including all the team names, team id numbers, league id numbers, and league id numbers within each division. \n",
    "      - I need this to filter out only teams in Triple-A then get their team id numbers\n",
    "\n",
    "\n",
    "2. Get information on qulaified players from each team in Triple-A\n",
    "  - Name: player?stitch_env=prod&season=2022&sportId=11&stat…ePlusSlugging&order=desc&leagueIds=117&teamId=445\n",
    "    - Notice end includes league AND team ids: 'leagueIds=117&teamId=445' also see this is tacked on to end of url lised in Request URL\n",
    "    - Request URL: https://bdfed.stitch.mlbinfra.com/bdfed/stats/player?stitch_env=prod&season=2022&sportId=11&stats=season&group=hitting&gameType=R&limit=25&offset=0&sortStat=onBasePlusSlugging&order=desc&leagueIds=117&teamId=445\n",
    "      - This is a json dict for just the team associated with team id 445\n",
    "      - This url without the team number can act as a base-url to loop through team id numbers to get urls for each team. "
   ]
  },
  {
   "cell_type": "code",
   "execution_count": 4,
   "metadata": {},
   "outputs": [],
   "source": [
    "# 1. team id numbers from Triple-A division\n",
    "triple_a_team_ids_url = 'https://bdfed.stitch.mlbinfra.com/bdfed/milb-stats/default/default/en-US?&contextTeamId=&contextLeagueId=117'\n",
    "\n",
    "# 2. information on qulaified players from each team in Triple-A\n",
    "base_url = 'https://bdfed.stitch.mlbinfra.com/bdfed/stats/player?stitch_env=prod&season=2022&sportId=11&stats=season&group=hitting&gameType=R&limit=25&offset=0&sortStat=onBasePlusSlugging&order=desc&leagueIds=117&teamId='\n"
   ]
  },
  {
   "cell_type": "markdown",
   "metadata": {},
   "source": [
    "# Get team id numbers"
   ]
  },
  {
   "cell_type": "markdown",
   "metadata": {},
   "source": [
    "## Convert data to json"
   ]
  },
  {
   "cell_type": "code",
   "execution_count": 5,
   "metadata": {},
   "outputs": [
    {
     "data": {
      "text/plain": [
       "dict_keys(['view', 'sportIds', 'season', 'seasonType', 'filmroomLinkMin', 'status', 'views', 'tabs', 'filters', 'tables', 'columns', 'playerPool', 'positions', 'timeframe', 'splits', 'seasons', 'gameTypes', 'teams', 'sports', 'leagues', 'sportsAndLeagues', 'seasonTypes', 'defaults', 'slugs', 'ids', 'dictionary', 'pageSize', 'flipData'])"
      ]
     },
     "execution_count": 5,
     "metadata": {},
     "output_type": "execute_result"
    }
   ],
   "source": [
    "# make request\n",
    "response = requests.get(triple_a_team_ids_url, headers=headers)\n",
    "soup = BeautifulSoup(response.content, 'html.parser')\n",
    "\n",
    "# save entire soup as a string\n",
    "triple_a_team_ids_soup = str(soup.prettify)\n",
    "\n",
    "# above step adds some text and tags, these need to be removed\n",
    "triple_a_team_ids_soup_trimmed = triple_a_team_ids_soup.replace('<bound method Tag.prettify of ', '')[:-1]\n",
    "\n",
    "# convert the string to json\n",
    "triple_a_json = json.loads(triple_a_team_ids_soup_trimmed)\n",
    "\n",
    "# view for visual inspections\n",
    "triple_a_json.keys()"
   ]
  },
  {
   "cell_type": "markdown",
   "metadata": {},
   "source": [
    "## Inspect json keys to find needed data (Triple-A teams' id's)\n",
    "\n",
    "- `triple_a_json['sports']` is a list of dictionaries. Each dictionary is a different division. Each division has label (name of division) and id (this is what is needed for next step), as well as league id the division info is in (this could be an alt way of extracting needed info but less efficient). \n",
    " - From here I see the Triple-A division has an id `s11`\n",
    " \n",
    " \n",
    "- `triple_a_json['teams']` is a dictionary. The keys are splits of teams, split by the entire MiLB, the divisions, and the leagues. A keys value is a single list. Each list is a list of dictionaries. Each dictionary is a team where the key is the team name and the value the team id number.\n",
    " - I only want Triple-A teams: `triple_a_json['teams']['s11']`\n"
   ]
  },
  {
   "cell_type": "code",
   "execution_count": 6,
   "metadata": {},
   "outputs": [
    {
     "data": {
      "text/plain": [
       "[{'label': 'Triple-A', 'value': 's11', 'id': 's11', 'leagueList': '117,112'},\n",
       " {'label': 'Double-A',\n",
       "  'value': 's12',\n",
       "  'id': 's12',\n",
       "  'leagueList': '113,111,109'},\n",
       " {'label': 'High-A', 'value': 's13', 'id': 's13', 'leagueList': '116,118,126'},\n",
       " {'label': 'Single-A',\n",
       "  'value': 's14',\n",
       "  'id': 's14',\n",
       "  'leagueList': '122,123,110'},\n",
       " {'label': 'Rookie', 'value': 's16', 'id': 's16', 'leagueList': '121,124,130'}]"
      ]
     },
     "execution_count": 6,
     "metadata": {},
     "output_type": "execute_result"
    }
   ],
   "source": [
    "# show data \n",
    "triple_a_json['sports']"
   ]
  },
  {
   "cell_type": "code",
   "execution_count": 8,
   "metadata": {},
   "outputs": [
    {
     "name": "stdout",
     "output_type": "stream",
     "text": [
      "dict_keys(['milb', 's16', 'l121', 'l124', 'l130', 's14', 'l122', 'l123', 'l110', 's13', 'l116', 'l118', 'l126', 's12', 'l113', 'l111', 'l109', 's11', 'l117', 'l112'])\n"
     ]
    },
    {
     "data": {
      "text/plain": [
       "[{'label': 'Albuquerque Isotopes', 'value': 't342'},\n",
       " {'label': 'Buffalo Bisons', 'value': 't422'},\n",
       " {'label': 'Charlotte Knights', 'value': 't494'},\n",
       " {'label': 'Columbus Clippers', 'value': 't445'},\n",
       " {'label': 'Durham Bulls', 'value': 't234'},\n",
       " {'label': 'El Paso Chihuahuas', 'value': 't4904'},\n",
       " {'label': 'Gwinnett Stripers', 'value': 't431'},\n",
       " {'label': 'Indianapolis Indians', 'value': 't484'},\n",
       " {'label': 'Iowa Cubs', 'value': 't451'},\n",
       " {'label': 'Jacksonville Jumbo Shrimp', 'value': 't564'},\n",
       " {'label': 'Las Vegas Aviators', 'value': 't400'},\n",
       " {'label': 'Lehigh Valley IronPigs', 'value': 't1410'},\n",
       " {'label': 'Louisville Bats', 'value': 't416'},\n",
       " {'label': 'Memphis Redbirds', 'value': 't235'},\n",
       " {'label': 'Nashville Sounds', 'value': 't556'},\n",
       " {'label': 'Norfolk Tides', 'value': 't568'},\n",
       " {'label': 'Oklahoma City Dodgers', 'value': 't238'},\n",
       " {'label': 'Omaha Storm Chasers', 'value': 't541'},\n",
       " {'label': 'Reno Aces', 'value': 't2310'},\n",
       " {'label': 'Rochester Red Wings', 'value': 't534'},\n",
       " {'label': 'Round Rock Express', 'value': 't102'},\n",
       " {'label': 'Sacramento River Cats', 'value': 't105'},\n",
       " {'label': 'Salt Lake Bees', 'value': 't561'},\n",
       " {'label': 'Scranton/Wilkes-Barre RailRiders', 'value': 't531'},\n",
       " {'label': 'St. Paul Saints', 'value': 't1960'},\n",
       " {'label': 'Sugar Land Space Cowboys', 'value': 't5434'},\n",
       " {'label': 'Syracuse Mets', 'value': 't552'},\n",
       " {'label': 'Tacoma Rainiers', 'value': 't529'},\n",
       " {'label': 'Toledo Mud Hens', 'value': 't512'},\n",
       " {'label': 'Worcester Red Sox', 'value': 't533'}]"
      ]
     },
     "execution_count": 8,
     "metadata": {},
     "output_type": "execute_result"
    }
   ],
   "source": [
    "# show data\n",
    "print(triple_a_json['teams'].keys())\n",
    "\n",
    "triple_a_json['teams']['s11']"
   ]
  },
  {
   "cell_type": "markdown",
   "metadata": {},
   "source": [
    "## Extract out just the team id's and remove 't'\n",
    "\n",
    "Team id's will be looped through with each being tacted onto the end of `base_url` to get dictionaries of each teams qualified players stats. \n"
   ]
  },
  {
   "cell_type": "code",
   "execution_count": 9,
   "metadata": {},
   "outputs": [
    {
     "data": {
      "text/plain": [
       "['342',\n",
       " '422',\n",
       " '494',\n",
       " '445',\n",
       " '234',\n",
       " '4904',\n",
       " '431',\n",
       " '484',\n",
       " '451',\n",
       " '564',\n",
       " '400',\n",
       " '1410',\n",
       " '416',\n",
       " '235',\n",
       " '556',\n",
       " '568',\n",
       " '238',\n",
       " '541',\n",
       " '2310',\n",
       " '534',\n",
       " '102',\n",
       " '105',\n",
       " '561',\n",
       " '531',\n",
       " '1960',\n",
       " '5434',\n",
       " '552',\n",
       " '529',\n",
       " '512',\n",
       " '533']"
      ]
     },
     "execution_count": 9,
     "metadata": {},
     "output_type": "execute_result"
    }
   ],
   "source": [
    "team_id_numbers = []\n",
    "\n",
    "for team in triple_a_json['teams']['s11']:\n",
    "    team_id = team['value'].replace('t', '')  # remove 't' so only number\n",
    "    team_id_numbers.append(team_id)\n",
    "    \n",
    "# check\n",
    "team_id_numbers"
   ]
  },
  {
   "cell_type": "markdown",
   "metadata": {},
   "source": [
    "# Create URL's"
   ]
  },
  {
   "cell_type": "code",
   "execution_count": 10,
   "metadata": {},
   "outputs": [
    {
     "data": {
      "text/plain": [
       "['https://bdfed.stitch.mlbinfra.com/bdfed/stats/player?stitch_env=prod&season=2022&sportId=11&stats=season&group=hitting&gameType=R&limit=25&offset=0&sortStat=onBasePlusSlugging&order=desc&leagueIds=117&teamId=342',\n",
       " 'https://bdfed.stitch.mlbinfra.com/bdfed/stats/player?stitch_env=prod&season=2022&sportId=11&stats=season&group=hitting&gameType=R&limit=25&offset=0&sortStat=onBasePlusSlugging&order=desc&leagueIds=117&teamId=422',\n",
       " 'https://bdfed.stitch.mlbinfra.com/bdfed/stats/player?stitch_env=prod&season=2022&sportId=11&stats=season&group=hitting&gameType=R&limit=25&offset=0&sortStat=onBasePlusSlugging&order=desc&leagueIds=117&teamId=494',\n",
       " 'https://bdfed.stitch.mlbinfra.com/bdfed/stats/player?stitch_env=prod&season=2022&sportId=11&stats=season&group=hitting&gameType=R&limit=25&offset=0&sortStat=onBasePlusSlugging&order=desc&leagueIds=117&teamId=445',\n",
       " 'https://bdfed.stitch.mlbinfra.com/bdfed/stats/player?stitch_env=prod&season=2022&sportId=11&stats=season&group=hitting&gameType=R&limit=25&offset=0&sortStat=onBasePlusSlugging&order=desc&leagueIds=117&teamId=234',\n",
       " 'https://bdfed.stitch.mlbinfra.com/bdfed/stats/player?stitch_env=prod&season=2022&sportId=11&stats=season&group=hitting&gameType=R&limit=25&offset=0&sortStat=onBasePlusSlugging&order=desc&leagueIds=117&teamId=4904',\n",
       " 'https://bdfed.stitch.mlbinfra.com/bdfed/stats/player?stitch_env=prod&season=2022&sportId=11&stats=season&group=hitting&gameType=R&limit=25&offset=0&sortStat=onBasePlusSlugging&order=desc&leagueIds=117&teamId=431',\n",
       " 'https://bdfed.stitch.mlbinfra.com/bdfed/stats/player?stitch_env=prod&season=2022&sportId=11&stats=season&group=hitting&gameType=R&limit=25&offset=0&sortStat=onBasePlusSlugging&order=desc&leagueIds=117&teamId=484',\n",
       " 'https://bdfed.stitch.mlbinfra.com/bdfed/stats/player?stitch_env=prod&season=2022&sportId=11&stats=season&group=hitting&gameType=R&limit=25&offset=0&sortStat=onBasePlusSlugging&order=desc&leagueIds=117&teamId=451',\n",
       " 'https://bdfed.stitch.mlbinfra.com/bdfed/stats/player?stitch_env=prod&season=2022&sportId=11&stats=season&group=hitting&gameType=R&limit=25&offset=0&sortStat=onBasePlusSlugging&order=desc&leagueIds=117&teamId=564',\n",
       " 'https://bdfed.stitch.mlbinfra.com/bdfed/stats/player?stitch_env=prod&season=2022&sportId=11&stats=season&group=hitting&gameType=R&limit=25&offset=0&sortStat=onBasePlusSlugging&order=desc&leagueIds=117&teamId=400',\n",
       " 'https://bdfed.stitch.mlbinfra.com/bdfed/stats/player?stitch_env=prod&season=2022&sportId=11&stats=season&group=hitting&gameType=R&limit=25&offset=0&sortStat=onBasePlusSlugging&order=desc&leagueIds=117&teamId=1410',\n",
       " 'https://bdfed.stitch.mlbinfra.com/bdfed/stats/player?stitch_env=prod&season=2022&sportId=11&stats=season&group=hitting&gameType=R&limit=25&offset=0&sortStat=onBasePlusSlugging&order=desc&leagueIds=117&teamId=416',\n",
       " 'https://bdfed.stitch.mlbinfra.com/bdfed/stats/player?stitch_env=prod&season=2022&sportId=11&stats=season&group=hitting&gameType=R&limit=25&offset=0&sortStat=onBasePlusSlugging&order=desc&leagueIds=117&teamId=235',\n",
       " 'https://bdfed.stitch.mlbinfra.com/bdfed/stats/player?stitch_env=prod&season=2022&sportId=11&stats=season&group=hitting&gameType=R&limit=25&offset=0&sortStat=onBasePlusSlugging&order=desc&leagueIds=117&teamId=556',\n",
       " 'https://bdfed.stitch.mlbinfra.com/bdfed/stats/player?stitch_env=prod&season=2022&sportId=11&stats=season&group=hitting&gameType=R&limit=25&offset=0&sortStat=onBasePlusSlugging&order=desc&leagueIds=117&teamId=568',\n",
       " 'https://bdfed.stitch.mlbinfra.com/bdfed/stats/player?stitch_env=prod&season=2022&sportId=11&stats=season&group=hitting&gameType=R&limit=25&offset=0&sortStat=onBasePlusSlugging&order=desc&leagueIds=117&teamId=238',\n",
       " 'https://bdfed.stitch.mlbinfra.com/bdfed/stats/player?stitch_env=prod&season=2022&sportId=11&stats=season&group=hitting&gameType=R&limit=25&offset=0&sortStat=onBasePlusSlugging&order=desc&leagueIds=117&teamId=541',\n",
       " 'https://bdfed.stitch.mlbinfra.com/bdfed/stats/player?stitch_env=prod&season=2022&sportId=11&stats=season&group=hitting&gameType=R&limit=25&offset=0&sortStat=onBasePlusSlugging&order=desc&leagueIds=117&teamId=2310',\n",
       " 'https://bdfed.stitch.mlbinfra.com/bdfed/stats/player?stitch_env=prod&season=2022&sportId=11&stats=season&group=hitting&gameType=R&limit=25&offset=0&sortStat=onBasePlusSlugging&order=desc&leagueIds=117&teamId=534',\n",
       " 'https://bdfed.stitch.mlbinfra.com/bdfed/stats/player?stitch_env=prod&season=2022&sportId=11&stats=season&group=hitting&gameType=R&limit=25&offset=0&sortStat=onBasePlusSlugging&order=desc&leagueIds=117&teamId=102',\n",
       " 'https://bdfed.stitch.mlbinfra.com/bdfed/stats/player?stitch_env=prod&season=2022&sportId=11&stats=season&group=hitting&gameType=R&limit=25&offset=0&sortStat=onBasePlusSlugging&order=desc&leagueIds=117&teamId=105',\n",
       " 'https://bdfed.stitch.mlbinfra.com/bdfed/stats/player?stitch_env=prod&season=2022&sportId=11&stats=season&group=hitting&gameType=R&limit=25&offset=0&sortStat=onBasePlusSlugging&order=desc&leagueIds=117&teamId=561',\n",
       " 'https://bdfed.stitch.mlbinfra.com/bdfed/stats/player?stitch_env=prod&season=2022&sportId=11&stats=season&group=hitting&gameType=R&limit=25&offset=0&sortStat=onBasePlusSlugging&order=desc&leagueIds=117&teamId=531',\n",
       " 'https://bdfed.stitch.mlbinfra.com/bdfed/stats/player?stitch_env=prod&season=2022&sportId=11&stats=season&group=hitting&gameType=R&limit=25&offset=0&sortStat=onBasePlusSlugging&order=desc&leagueIds=117&teamId=1960',\n",
       " 'https://bdfed.stitch.mlbinfra.com/bdfed/stats/player?stitch_env=prod&season=2022&sportId=11&stats=season&group=hitting&gameType=R&limit=25&offset=0&sortStat=onBasePlusSlugging&order=desc&leagueIds=117&teamId=5434',\n",
       " 'https://bdfed.stitch.mlbinfra.com/bdfed/stats/player?stitch_env=prod&season=2022&sportId=11&stats=season&group=hitting&gameType=R&limit=25&offset=0&sortStat=onBasePlusSlugging&order=desc&leagueIds=117&teamId=552',\n",
       " 'https://bdfed.stitch.mlbinfra.com/bdfed/stats/player?stitch_env=prod&season=2022&sportId=11&stats=season&group=hitting&gameType=R&limit=25&offset=0&sortStat=onBasePlusSlugging&order=desc&leagueIds=117&teamId=529',\n",
       " 'https://bdfed.stitch.mlbinfra.com/bdfed/stats/player?stitch_env=prod&season=2022&sportId=11&stats=season&group=hitting&gameType=R&limit=25&offset=0&sortStat=onBasePlusSlugging&order=desc&leagueIds=117&teamId=512',\n",
       " 'https://bdfed.stitch.mlbinfra.com/bdfed/stats/player?stitch_env=prod&season=2022&sportId=11&stats=season&group=hitting&gameType=R&limit=25&offset=0&sortStat=onBasePlusSlugging&order=desc&leagueIds=117&teamId=533']"
      ]
     },
     "execution_count": 10,
     "metadata": {},
     "output_type": "execute_result"
    }
   ],
   "source": [
    "team_urls = [base_url+i for i in team_id_numbers]\n",
    "\n",
    "# check \n",
    "team_urls"
   ]
  },
  {
   "cell_type": "markdown",
   "metadata": {},
   "source": [
    "# Create DF's for every Triple-A teams' qualified players\n",
    "Loop through URL's and convert data into pandas df's"
   ]
  },
  {
   "cell_type": "code",
   "execution_count": 11,
   "metadata": {},
   "outputs": [],
   "source": [
    "raw_strings = []\n",
    "raw_strings_trimmed = []\n",
    "jsons = []\n",
    "dfs = []\n",
    "\n",
    "for team_url in team_urls:\n",
    "    \n",
    "    response = requests.get(team_url, headers=headers)\n",
    "    soup = BeautifulSoup(response.content, 'html.parser')\n",
    "    \n",
    "    raw_string = str(soup.prettify)\n",
    "    raw_strings.append(raw_string) # temporary save to troubleshoot if needed\n",
    "        \n",
    "    # remove unneeded bits from front and end\n",
    "    raw_string = raw_string.replace('<bound method Tag.prettify of ', '')[:-1]\n",
    "    raw_strings_trimmed.append(raw_string) # temporary save to troubleshoot if needed\n",
    "    \n",
    "    # convert string to json - this makes a dictionary\n",
    "    json_object = json.loads(raw_string)\n",
    "    jsons.append(json_object) # temporary save to troubleshoot if needed\n",
    "\n",
    "    # convert 'stats' (it's a list) to a pandas df\n",
    "    df = pd.DataFrame(json_object['stats'])\n",
    "    dfs.append(df)"
   ]
  },
  {
   "cell_type": "code",
   "execution_count": 12,
   "metadata": {},
   "outputs": [
    {
     "data": {
      "text/plain": [
       "True"
      ]
     },
     "execution_count": 12,
     "metadata": {},
     "output_type": "execute_result"
    }
   ],
   "source": [
    "len(dfs) == len(team_id_numbers)"
   ]
  },
  {
   "cell_type": "code",
   "execution_count": 13,
   "metadata": {},
   "outputs": [
    {
     "data": {
      "text/html": [
       "<div>\n",
       "<style scoped>\n",
       "    .dataframe tbody tr th:only-of-type {\n",
       "        vertical-align: middle;\n",
       "    }\n",
       "\n",
       "    .dataframe tbody tr th {\n",
       "        vertical-align: top;\n",
       "    }\n",
       "\n",
       "    .dataframe thead th {\n",
       "        text-align: right;\n",
       "    }\n",
       "</style>\n",
       "<table border=\"1\" class=\"dataframe\">\n",
       "  <thead>\n",
       "    <tr style=\"text-align: right;\">\n",
       "      <th></th>\n",
       "      <th>year</th>\n",
       "      <th>playerId</th>\n",
       "      <th>playerName</th>\n",
       "      <th>type</th>\n",
       "      <th>rank</th>\n",
       "      <th>playerFullName</th>\n",
       "      <th>playerFirstName</th>\n",
       "      <th>playerLastName</th>\n",
       "      <th>playerUseName</th>\n",
       "      <th>playerInitLastName</th>\n",
       "      <th>...</th>\n",
       "      <th>slg</th>\n",
       "      <th>ops</th>\n",
       "      <th>caughtStealing</th>\n",
       "      <th>stolenBases</th>\n",
       "      <th>stolenBasePercentage</th>\n",
       "      <th>groundIntoDoublePlay</th>\n",
       "      <th>rbi</th>\n",
       "      <th>groundOutsToAirouts</th>\n",
       "      <th>catchersInterference</th>\n",
       "      <th>atBatsPerHomeRun</th>\n",
       "    </tr>\n",
       "  </thead>\n",
       "  <tbody>\n",
       "    <tr>\n",
       "      <th>0</th>\n",
       "      <td>2022</td>\n",
       "      <td>592144</td>\n",
       "      <td>Wynton Bernard</td>\n",
       "      <td>player</td>\n",
       "      <td>1</td>\n",
       "      <td>Wynton Bernard</td>\n",
       "      <td>Wynton</td>\n",
       "      <td>Bernard</td>\n",
       "      <td>Wynton</td>\n",
       "      <td>W Bernard</td>\n",
       "      <td>...</td>\n",
       "      <td>.590</td>\n",
       "      <td>.977</td>\n",
       "      <td>5</td>\n",
       "      <td>30</td>\n",
       "      <td>.857</td>\n",
       "      <td>7</td>\n",
       "      <td>92</td>\n",
       "      <td>1.55</td>\n",
       "      <td>0</td>\n",
       "      <td>20.43</td>\n",
       "    </tr>\n",
       "    <tr>\n",
       "      <th>1</th>\n",
       "      <td>2022</td>\n",
       "      <td>542208</td>\n",
       "      <td>Carlos Perez</td>\n",
       "      <td>player</td>\n",
       "      <td>2</td>\n",
       "      <td>Carlos Perez</td>\n",
       "      <td>Carlos</td>\n",
       "      <td>Perez</td>\n",
       "      <td>Carlos</td>\n",
       "      <td>C PÃ©rez</td>\n",
       "      <td>...</td>\n",
       "      <td>.524</td>\n",
       "      <td>.865</td>\n",
       "      <td>0</td>\n",
       "      <td>0</td>\n",
       "      <td>.---</td>\n",
       "      <td>8</td>\n",
       "      <td>87</td>\n",
       "      <td>0.57</td>\n",
       "      <td>0</td>\n",
       "      <td>14.71</td>\n",
       "    </tr>\n",
       "    <tr>\n",
       "      <th>2</th>\n",
       "      <td>2022</td>\n",
       "      <td>663796</td>\n",
       "      <td>Coco Montes</td>\n",
       "      <td>player</td>\n",
       "      <td>3</td>\n",
       "      <td>Coco Montes</td>\n",
       "      <td>Robert</td>\n",
       "      <td>Montes</td>\n",
       "      <td>Coco</td>\n",
       "      <td>C Montes</td>\n",
       "      <td>...</td>\n",
       "      <td>.500</td>\n",
       "      <td>.859</td>\n",
       "      <td>1</td>\n",
       "      <td>13</td>\n",
       "      <td>.929</td>\n",
       "      <td>11</td>\n",
       "      <td>77</td>\n",
       "      <td>0.68</td>\n",
       "      <td>0</td>\n",
       "      <td>21.00</td>\n",
       "    </tr>\n",
       "    <tr>\n",
       "      <th>3</th>\n",
       "      <td>2022</td>\n",
       "      <td>668723</td>\n",
       "      <td>Ryan Vilade</td>\n",
       "      <td>player</td>\n",
       "      <td>4</td>\n",
       "      <td>Ryan Vilade</td>\n",
       "      <td>Ryan</td>\n",
       "      <td>Vilade</td>\n",
       "      <td>Ryan</td>\n",
       "      <td>R Vilade</td>\n",
       "      <td>...</td>\n",
       "      <td>.352</td>\n",
       "      <td>.697</td>\n",
       "      <td>6</td>\n",
       "      <td>10</td>\n",
       "      <td>.625</td>\n",
       "      <td>9</td>\n",
       "      <td>38</td>\n",
       "      <td>1.22</td>\n",
       "      <td>0</td>\n",
       "      <td>73.80</td>\n",
       "    </tr>\n",
       "  </tbody>\n",
       "</table>\n",
       "<p>4 rows × 72 columns</p>\n",
       "</div>"
      ],
      "text/plain": [
       "   year  playerId      playerName    type  rank  playerFullName  \\\n",
       "0  2022    592144  Wynton Bernard  player     1  Wynton Bernard   \n",
       "1  2022    542208    Carlos Perez  player     2    Carlos Perez   \n",
       "2  2022    663796     Coco Montes  player     3     Coco Montes   \n",
       "3  2022    668723     Ryan Vilade  player     4     Ryan Vilade   \n",
       "\n",
       "  playerFirstName playerLastName playerUseName playerInitLastName  ...   slg  \\\n",
       "0          Wynton        Bernard        Wynton          W Bernard  ...  .590   \n",
       "1          Carlos          Perez        Carlos           C PÃ©rez  ...  .524   \n",
       "2          Robert         Montes          Coco           C Montes  ...  .500   \n",
       "3            Ryan         Vilade          Ryan           R Vilade  ...  .352   \n",
       "\n",
       "    ops caughtStealing stolenBases stolenBasePercentage  groundIntoDoublePlay  \\\n",
       "0  .977              5          30                 .857                     7   \n",
       "1  .865              0           0                 .---                     8   \n",
       "2  .859              1          13                 .929                    11   \n",
       "3  .697              6          10                 .625                     9   \n",
       "\n",
       "  rbi groundOutsToAirouts catchersInterference  atBatsPerHomeRun  \n",
       "0  92                1.55                    0             20.43  \n",
       "1  87                0.57                    0             14.71  \n",
       "2  77                0.68                    0             21.00  \n",
       "3  38                1.22                    0             73.80  \n",
       "\n",
       "[4 rows x 72 columns]"
      ]
     },
     "execution_count": 13,
     "metadata": {},
     "output_type": "execute_result"
    }
   ],
   "source": [
    "# view first\n",
    "dfs[0]"
   ]
  },
  {
   "cell_type": "markdown",
   "metadata": {},
   "source": [
    "# Edit team df's to match data in MLB df"
   ]
  },
  {
   "cell_type": "markdown",
   "metadata": {},
   "source": [
    "## For easy renaming, put the columns in the same order as MLB columns "
   ]
  },
  {
   "cell_type": "code",
   "execution_count": 14,
   "metadata": {},
   "outputs": [],
   "source": [
    "# columns to keep\n",
    "keep = ['teamAbbrev', \n",
    "        'gamesPlayed', \n",
    "        'atBats',\n",
    "        'runs',\n",
    "        'hits', \n",
    "        'doubles',\n",
    "        'triples', \n",
    "        'homeRuns', \n",
    "        'rbi',\n",
    "        'baseOnBalls',\n",
    "        'strikeOuts',\n",
    "        'stolenBases', \n",
    "        'caughtStealing',\n",
    "        'avg', \n",
    "        'obp', \n",
    "        'slg', \n",
    "        'ops',\n",
    "        'playerUseName', \n",
    "        'playerLastName', \n",
    "        'positionAbbrev']"
   ]
  },
  {
   "cell_type": "markdown",
   "metadata": {},
   "source": [
    "## Trim df's and rename columns"
   ]
  },
  {
   "cell_type": "code",
   "execution_count": 15,
   "metadata": {},
   "outputs": [
    {
     "data": {
      "text/html": [
       "<div>\n",
       "<style scoped>\n",
       "    .dataframe tbody tr th:only-of-type {\n",
       "        vertical-align: middle;\n",
       "    }\n",
       "\n",
       "    .dataframe tbody tr th {\n",
       "        vertical-align: top;\n",
       "    }\n",
       "\n",
       "    .dataframe thead th {\n",
       "        text-align: right;\n",
       "    }\n",
       "</style>\n",
       "<table border=\"1\" class=\"dataframe\">\n",
       "  <thead>\n",
       "    <tr style=\"text-align: right;\">\n",
       "      <th></th>\n",
       "      <th>Team</th>\n",
       "      <th>Games Played</th>\n",
       "      <th>At Bats</th>\n",
       "      <th>Runs</th>\n",
       "      <th>Hits</th>\n",
       "      <th>Doubles</th>\n",
       "      <th>Triples</th>\n",
       "      <th>Home Runs</th>\n",
       "      <th>Runs Batted In</th>\n",
       "      <th>Walks</th>\n",
       "      <th>Strikeouts</th>\n",
       "      <th>Stolen Bases</th>\n",
       "      <th>Caught Stealing</th>\n",
       "      <th>Batting Average</th>\n",
       "      <th>On-Base Percentage</th>\n",
       "      <th>Slugging Percentage</th>\n",
       "      <th>On-Base Plus Slugging</th>\n",
       "      <th>First Name</th>\n",
       "      <th>Last Name</th>\n",
       "      <th>Position</th>\n",
       "    </tr>\n",
       "  </thead>\n",
       "  <tbody>\n",
       "    <tr>\n",
       "      <th>0</th>\n",
       "      <td>ABQ</td>\n",
       "      <td>108</td>\n",
       "      <td>429</td>\n",
       "      <td>95</td>\n",
       "      <td>143</td>\n",
       "      <td>31</td>\n",
       "      <td>8</td>\n",
       "      <td>21</td>\n",
       "      <td>92</td>\n",
       "      <td>39</td>\n",
       "      <td>67</td>\n",
       "      <td>30</td>\n",
       "      <td>5</td>\n",
       "      <td>.333</td>\n",
       "      <td>.387</td>\n",
       "      <td>.590</td>\n",
       "      <td>.977</td>\n",
       "      <td>Wynton</td>\n",
       "      <td>Bernard</td>\n",
       "      <td>CF</td>\n",
       "    </tr>\n",
       "    <tr>\n",
       "      <th>1</th>\n",
       "      <td>ABQ</td>\n",
       "      <td>117</td>\n",
       "      <td>456</td>\n",
       "      <td>75</td>\n",
       "      <td>116</td>\n",
       "      <td>28</td>\n",
       "      <td>1</td>\n",
       "      <td>31</td>\n",
       "      <td>87</td>\n",
       "      <td>54</td>\n",
       "      <td>100</td>\n",
       "      <td>0</td>\n",
       "      <td>0</td>\n",
       "      <td>.254</td>\n",
       "      <td>.341</td>\n",
       "      <td>.524</td>\n",
       "      <td>.865</td>\n",
       "      <td>Carlos</td>\n",
       "      <td>Perez</td>\n",
       "      <td>DH</td>\n",
       "    </tr>\n",
       "    <tr>\n",
       "      <th>2</th>\n",
       "      <td>ABQ</td>\n",
       "      <td>111</td>\n",
       "      <td>420</td>\n",
       "      <td>82</td>\n",
       "      <td>115</td>\n",
       "      <td>27</td>\n",
       "      <td>4</td>\n",
       "      <td>20</td>\n",
       "      <td>77</td>\n",
       "      <td>50</td>\n",
       "      <td>131</td>\n",
       "      <td>13</td>\n",
       "      <td>1</td>\n",
       "      <td>.274</td>\n",
       "      <td>.359</td>\n",
       "      <td>.500</td>\n",
       "      <td>.859</td>\n",
       "      <td>Coco</td>\n",
       "      <td>Montes</td>\n",
       "      <td>2B</td>\n",
       "    </tr>\n",
       "    <tr>\n",
       "      <th>3</th>\n",
       "      <td>ABQ</td>\n",
       "      <td>99</td>\n",
       "      <td>369</td>\n",
       "      <td>64</td>\n",
       "      <td>92</td>\n",
       "      <td>15</td>\n",
       "      <td>4</td>\n",
       "      <td>5</td>\n",
       "      <td>38</td>\n",
       "      <td>52</td>\n",
       "      <td>69</td>\n",
       "      <td>10</td>\n",
       "      <td>6</td>\n",
       "      <td>.249</td>\n",
       "      <td>.345</td>\n",
       "      <td>.352</td>\n",
       "      <td>.697</td>\n",
       "      <td>Ryan</td>\n",
       "      <td>Vilade</td>\n",
       "      <td>RF</td>\n",
       "    </tr>\n",
       "  </tbody>\n",
       "</table>\n",
       "</div>"
      ],
      "text/plain": [
       "  Team  Games Played  At Bats  Runs  Hits  Doubles  Triples  Home Runs  \\\n",
       "0  ABQ           108      429    95   143       31        8         21   \n",
       "1  ABQ           117      456    75   116       28        1         31   \n",
       "2  ABQ           111      420    82   115       27        4         20   \n",
       "3  ABQ            99      369    64    92       15        4          5   \n",
       "\n",
       "   Runs Batted In  Walks  Strikeouts  Stolen Bases  Caught Stealing  \\\n",
       "0              92     39          67            30                5   \n",
       "1              87     54         100             0                0   \n",
       "2              77     50         131            13                1   \n",
       "3              38     52          69            10                6   \n",
       "\n",
       "  Batting Average On-Base Percentage Slugging Percentage  \\\n",
       "0            .333               .387                .590   \n",
       "1            .254               .341                .524   \n",
       "2            .274               .359                .500   \n",
       "3            .249               .345                .352   \n",
       "\n",
       "  On-Base Plus Slugging First Name Last Name Position  \n",
       "0                  .977     Wynton   Bernard       CF  \n",
       "1                  .865     Carlos     Perez       DH  \n",
       "2                  .859       Coco    Montes       2B  \n",
       "3                  .697       Ryan    Vilade       RF  "
      ]
     },
     "execution_count": 15,
     "metadata": {},
     "output_type": "execute_result"
    }
   ],
   "source": [
    "dfs_standard = []\n",
    "for df in dfs:\n",
    "    df_short = df[keep]\n",
    "    df_short.columns = MLB_columns\n",
    "    dfs_standard.append(df_short)\n",
    "    \n",
    "# check the fist df \n",
    "dfs_standard[0]"
   ]
  },
  {
   "cell_type": "markdown",
   "metadata": {},
   "source": [
    "# Concatenate the list of df's into 1 df"
   ]
  },
  {
   "cell_type": "code",
   "execution_count": 16,
   "metadata": {},
   "outputs": [],
   "source": [
    "MiLB = pd.concat(dfs_standard, ignore_index=True)"
   ]
  },
  {
   "cell_type": "markdown",
   "metadata": {},
   "source": [
    "# Pickle MiLB df"
   ]
  },
  {
   "cell_type": "code",
   "execution_count": 17,
   "metadata": {},
   "outputs": [],
   "source": [
    "pd.to_pickle(MiLB, \"../pickled_tables/MiLB_df.pkl\")"
   ]
  },
  {
   "cell_type": "markdown",
   "metadata": {},
   "source": [
    "# Save team name abbreviations\n",
    "This may not be needed but I would prefer to have if needed."
   ]
  },
  {
   "cell_type": "code",
   "execution_count": 18,
   "metadata": {},
   "outputs": [
    {
     "data": {
      "text/plain": [
       "Index(['year', 'playerId', 'playerName', 'type', 'rank', 'playerFullName',\n",
       "       'playerFirstName', 'playerLastName', 'playerUseName',\n",
       "       'playerInitLastName', 'teamId', 'teamAbbrev', 'teamName',\n",
       "       'teamShortName', 'leagueName', 'leagueId', 'positionAbbrev', 'position',\n",
       "       'primaryPositionAbbrev', 'plateAppearances', 'totalBases', 'leftOnBase',\n",
       "       'sacBunts', 'sacFlies', 'babip', 'extraBaseHits', 'hitByPitch', 'gidp',\n",
       "       'gidpOpp', 'numberOfPitches', 'pitchesPerPlateAppearance',\n",
       "       'walksPerPlateAppearance', 'strikeoutsPerPlateAppearance',\n",
       "       'homeRunsPerPlateAppearance', 'walksPerStrikeout', 'iso',\n",
       "       'reachedOnError', 'walkOffs', 'flyOuts', 'totalSwings',\n",
       "       'swingAndMisses', 'ballsInPlay', 'popOuts', 'lineOuts', 'groundOuts',\n",
       "       'flyHits', 'popHits', 'lineHits', 'groundHits', 'gamesPlayed',\n",
       "       'airOuts', 'runs', 'doubles', 'triples', 'homeRuns', 'strikeOuts',\n",
       "       'baseOnBalls', 'intentionalWalks', 'hits', 'avg', 'atBats', 'obp',\n",
       "       'slg', 'ops', 'caughtStealing', 'stolenBases', 'stolenBasePercentage',\n",
       "       'groundIntoDoublePlay', 'rbi', 'groundOutsToAirouts',\n",
       "       'catchersInterference', 'atBatsPerHomeRun'],\n",
       "      dtype='object')"
      ]
     },
     "execution_count": 18,
     "metadata": {},
     "output_type": "execute_result"
    }
   ],
   "source": [
    "# look at columns names to know what columns to grab\n",
    "dfs[0].columns"
   ]
  },
  {
   "cell_type": "code",
   "execution_count": 19,
   "metadata": {},
   "outputs": [
    {
     "data": {
      "text/plain": [
       "teamAbbrev                     ABQ\n",
       "teamName      Albuquerque Isotopes\n",
       "Name: 0, dtype: object"
      ]
     },
     "execution_count": 19,
     "metadata": {},
     "output_type": "execute_result"
    }
   ],
   "source": [
    "# check that these two columns are the correct ones\n",
    "dfs[0].iloc[0][['teamAbbrev', 'teamName']]"
   ]
  },
  {
   "cell_type": "code",
   "execution_count": 20,
   "metadata": {},
   "outputs": [
    {
     "data": {
      "text/plain": [
       "{'ABQ': 'Albuquerque Isotopes',\n",
       " 'BUF': 'Buffalo Bisons',\n",
       " 'CLT': 'Charlotte Knights',\n",
       " 'COL': 'Columbus Clippers',\n",
       " 'DUR': 'Durham Bulls',\n",
       " 'ELP': 'El Paso Chihuahuas',\n",
       " 'GWN': 'Gwinnett Stripers',\n",
       " 'IND': 'Indianapolis Indians',\n",
       " 'IOW': 'Iowa Cubs',\n",
       " 'JAX': 'Jacksonville Jumbo Shrimp',\n",
       " 'LV': 'Las Vegas Aviators',\n",
       " 'LHV': 'Lehigh Valley IronPigs',\n",
       " 'LOU': 'Louisville Bats',\n",
       " 'MEM': 'Memphis Redbirds',\n",
       " 'NAS': 'Nashville Sounds',\n",
       " 'NOR': 'Norfolk Tides',\n",
       " 'OKC': 'Oklahoma City Dodgers',\n",
       " 'OMA': 'Omaha Storm Chasers',\n",
       " 'RNO': 'Reno Aces',\n",
       " 'ROC': 'Rochester Red Wings',\n",
       " 'RR': 'Round Rock Express',\n",
       " 'SAC': 'Sacramento River Cats',\n",
       " 'SL': 'Salt Lake Bees',\n",
       " 'SWB': 'Scranton/Wilkes-Barre RailRiders',\n",
       " 'STP': 'St. Paul Saints',\n",
       " 'SUG': 'Sugar Land Space Cowboys',\n",
       " 'SYR': 'Syracuse Mets',\n",
       " 'TAC': 'Tacoma Rainiers',\n",
       " 'TOL': 'Toledo Mud Hens',\n",
       " 'WOR': 'Worcester Red Sox'}"
      ]
     },
     "execution_count": 20,
     "metadata": {},
     "output_type": "execute_result"
    }
   ],
   "source": [
    "# loop through all the dfs and use 'teamAbbrev' as key, 'teamName' as value\n",
    "acronym_dic = {}\n",
    "\n",
    "for df in dfs:\n",
    "    key = df.iloc[0]['teamAbbrev']\n",
    "    value = df.iloc[0]['teamName']\n",
    "    \n",
    "    acronym_dic[key] = value    \n",
    "    \n",
    "acronym_dic"
   ]
  },
  {
   "cell_type": "code",
   "execution_count": null,
   "metadata": {},
   "outputs": [],
   "source": []
  }
 ],
 "metadata": {
  "kernelspec": {
   "display_name": "Python (learn-env)",
   "language": "python",
   "name": "learn-env"
  },
  "language_info": {
   "codemirror_mode": {
    "name": "ipython",
    "version": 3
   },
   "file_extension": ".py",
   "mimetype": "text/x-python",
   "name": "python",
   "nbconvert_exporter": "python",
   "pygments_lexer": "ipython3",
   "version": "3.8.5"
  },
  "toc": {
   "base_numbering": 1,
   "nav_menu": {},
   "number_sections": true,
   "sideBar": true,
   "skip_h1_title": false,
   "title_cell": "Table of Contents",
   "title_sidebar": "Contents",
   "toc_cell": false,
   "toc_position": {
    "height": "538px",
    "left": "30px",
    "top": "110px",
    "width": "304.390625px"
   },
   "toc_section_display": true,
   "toc_window_display": true
  }
 },
 "nbformat": 4,
 "nbformat_minor": 4
}
